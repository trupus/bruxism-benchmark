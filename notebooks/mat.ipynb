{
 "cells": [
  {
   "cell_type": "code",
   "execution_count": 5,
   "metadata": {},
   "outputs": [],
   "source": [
    "def get_ac_interval_ranges(v: bytearray):\n",
    "    def transform(x, y, factor):\n",
    "        return (x * 256 + y) * factor\n",
    "\n",
    "    def a_interval():\n",
    "        at = lambda x, y: transform(x, y, 0.625)\n",
    "        min_a = at(v[3], v[4])\n",
    "        max_a = at(v[5], v[6])\n",
    "        return (min_a, max_a)\n",
    "\n",
    "    def c_interval():\n",
    "        ct = lambda x, y: transform(x, y, 1.25)\n",
    "        min_c = ct(v[7], v[8])\n",
    "        max_c = ct(v[9], v[10])\n",
    "        return (min_c, max_c)\n",
    "\n",
    "    return (a_interval(), c_interval())"
   ]
  },
  {
   "cell_type": "code",
   "execution_count": 6,
   "metadata": {},
   "outputs": [
    {
     "data": {
      "text/plain": [
       "((125.0, 187.5), (90.0, 110.0))"
      ]
     },
     "execution_count": 6,
     "metadata": {},
     "output_type": "execute_result"
    }
   ],
   "source": [
    "# from docs for 100hz ?\n",
    "# Adv. Interval between 125ms and 187ms – Conn. interval between 90ms and 110ms:\n",
    "get_ac_interval_ranges([0x57, 0x9d, 0x08, 0x00, 0xc8, 0x01, 0x2c, 0x00, 0x48, 0x00, 0x58])"
   ]
  },
  {
   "cell_type": "code",
   "execution_count": 7,
   "metadata": {},
   "outputs": [
    {
     "data": {
      "text/plain": [
       "((625.0, 750.0), (90.0, 110.0))"
      ]
     },
     "execution_count": 7,
     "metadata": {},
     "output_type": "execute_result"
    }
   ],
   "source": [
    "# from docs (default)\n",
    "# Adv. Interval between 625ms and 750ms – Conn. interval between 90ms and 110ms: \n",
    "get_ac_interval_ranges([0x57, 0x47, 0x08, 0x03, 0xe8, 0x04, 0xb0, 0x00, 0x48, 0x00, 0x58])"
   ]
  },
  {
   "cell_type": "code",
   "execution_count": 8,
   "metadata": {},
   "outputs": [
    {
     "data": {
      "text/plain": [
       "((20.0, 30.0), (90.0, 110.0))"
      ]
     },
     "execution_count": 8,
     "metadata": {},
     "output_type": "execute_result"
    }
   ],
   "source": [
    "# from earables (same initial value)\n",
    "get_ac_interval_ranges([0x57, 0xf8, 0x08, 0x00, 0x20, 0x00, 0x30, 0x00, 0x48, 0x00, 0x58])"
   ]
  },
  {
   "cell_type": "code",
   "execution_count": 10,
   "metadata": {},
   "outputs": [
    {
     "data": {
      "text/plain": [
       "((125.0, 187.5), (20.0, 40.0))"
      ]
     },
     "execution_count": 10,
     "metadata": {},
     "output_type": "execute_result"
    }
   ],
   "source": [
    "# expiremental (must be the fastest)\n",
    "# Adv. Interval between 125ms and 187ms – Conn. interval between 20ms and 40ms: \n",
    "get_ac_interval_ranges([0x57, 0x2d, 0x08, 0x00, 0xc8, 0x01, 0x2c, 0x00, 0x10, 0x00, 0x20])"
   ]
  },
  {
   "cell_type": "code",
   "execution_count": 57,
   "metadata": {},
   "outputs": [],
   "source": [
    "def decode(v):\n",
    "    def _from_bytes(bytes_pair):\n",
    "        return int.from_bytes(bytes_pair, 'little', signed=True)\n",
    "\n",
    "    g = [_from_bytes(v[4:6]), _from_bytes(v[6:8]), _from_bytes(v[8:10])]\n",
    "    a = [_from_bytes(v[10:12]), _from_bytes(v[12:14]), _from_bytes(v[14:16])]\n",
    "\n",
    "    a = [(ai / 8192) * 9.80665 for ai in a]\n",
    "    g = [gi / 65.5 for gi in g]\n",
    "\n",
    "    return a, g\n"
   ]
  },
  {
   "cell_type": "code",
   "execution_count": 58,
   "metadata": {},
   "outputs": [
    {
     "data": {
      "text/plain": [
       "([12.536039892578124, 4.886565588378906, -20.51232272338867],\n",
       " [-457.2977099236641, 62.534351145038165, -19.557251908396946])"
      ]
     },
     "execution_count": 58,
     "metadata": {},
     "output_type": "execute_result"
    }
   ],
   "source": [
    "decode(bytearray(b'U\\xf0}\\x0c\\xff\\x8a\\x00\\x10\\xff\\xfa\\xe8(\\xf2\\x0f\\x11\\xbd'))\n",
    "# 17"
   ]
  },
  {
   "cell_type": "code",
   "execution_count": 59,
   "metadata": {},
   "outputs": [
    {
     "data": {
      "text/plain": [
       "([-22.37022321166992, -19.000384375, -35.89027998657227],\n",
       " [312.67175572519085, 461.19083969465646, -191.5267175572519])"
      ]
     },
     "execution_count": 59,
     "metadata": {},
     "output_type": "execute_result"
    }
   ],
   "source": [
    "decode(bytearray(b'U\\x00\\x86\\x0c\\x00P\\x00v\\xff\\xce\\x01\\xb7\\x00\\xc2\\xe3\\x8a'))\n",
    "# 20"
   ]
  },
  {
   "cell_type": "code",
   "execution_count": 60,
   "metadata": {},
   "outputs": [
    {
     "data": {
      "text/plain": [
       "([-0.10414777221679687, 0.5243301635742187, -0.967257470703125],\n",
       " [35.00763358778626, 0.183206106870229, 1.465648854961832])"
      ]
     },
     "execution_count": 60,
     "metadata": {},
     "output_type": "execute_result"
    }
   ],
   "source": [
    "decode(bytearray([0x55, 0xF6, 0x01, 0x55, 0xF5, 0x08, 0x0C, 0x00, 0x60, 0x00, 0xA9, 0xFF, 0xB6, 0x01, 0xD8, 0xFC]))\n",
    "# 20"
   ]
  },
  {
   "cell_type": "code",
   "execution_count": 61,
   "metadata": {},
   "outputs": [
    {
     "data": {
      "text/plain": [
       "([-27.891252239990234, -5.825092639160156, -29.152996514892575],\n",
       " [-19.557251908396946, -496.381679389313, 27.358778625954198])"
      ]
     },
     "execution_count": 61,
     "metadata": {},
     "output_type": "execute_result"
    }
   ],
   "source": [
    "decode(bytearray(b'Uj\\x95\\x0c\\xff\\xfa\\xff\\x80\\x00\\x07\\xfd\\xa4\\xfe\\xec\\xdf\\xa0'))\n",
    "# 36"
   ]
  }
 ],
 "metadata": {
  "interpreter": {
   "hash": "31f2aee4e71d21fbe5cf8b01ff0e069b9275f58929596ceb00d14d90e3e16cd6"
  },
  "kernelspec": {
   "display_name": "Python 3.7.3 32-bit",
   "language": "python",
   "name": "python3"
  },
  "language_info": {
   "codemirror_mode": {
    "name": "ipython",
    "version": 3
   },
   "file_extension": ".py",
   "mimetype": "text/x-python",
   "name": "python",
   "nbconvert_exporter": "python",
   "pygments_lexer": "ipython3",
   "version": "3.7.3"
  },
  "orig_nbformat": 4
 },
 "nbformat": 4,
 "nbformat_minor": 2
}
