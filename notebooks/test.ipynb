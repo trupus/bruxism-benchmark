{
 "cells": [
  {
   "cell_type": "markdown",
   "metadata": {},
   "source": [
    "# GSR"
   ]
  },
  {
   "cell_type": "code",
   "execution_count": null,
   "metadata": {},
   "outputs": [],
   "source": [
    "import time\n",
    "import grovepi\n",
    "\n",
    "#Sensor connected to A0 Port \n",
    "sensor = 14\t\t# Pin 14 is A0 Port.\n",
    "grovepi.pinMode(sensor,\"INPUT\")\n",
    "while True:\n",
    "    try:\n",
    "        sensor_value = grovepi.analogRead(sensor)\n",
    "\n",
    "        print (\"sensor_value = %d\" %sensor_value)\n",
    "        time.sleep(.5)\n",
    "\n",
    "    except IOError:\n",
    "        print (\"Error\")"
   ]
  },
  {
   "cell_type": "markdown",
   "metadata": {},
   "source": [
    "# IMU"
   ]
  },
  {
   "cell_type": "code",
   "execution_count": null,
   "metadata": {},
   "outputs": [],
   "source": [
    "import logging\n",
    "import sys\n",
    "import time\n",
    "\n",
    "from Adafruit_BNO055 import BNO055\n",
    "\n",
    "\n",
    "# Create and configure the BNO sensor connection.  Make sure only ONE of the\n",
    "# below 'bno = ...' lines is uncommented:\n",
    "# Raspberry Pi configuration with serial UART and RST connected to GPIO 18:\n",
    "bno = BNO055.BNO055(serial_port='/dev/serial0', rst=18)\n",
    "# BeagleBone Black configuration with default I2C connection (SCL=P9_19, SDA=P9_20),\n",
    "# and RST connected to pin P9_12:\n",
    "#bno = BNO055.BNO055(rst='P9_12')\n",
    "\n",
    "\n",
    "# Enable verbose debug logging if -v is passed as a parameter.\n",
    "if len(sys.argv) == 2 and sys.argv[1].lower() == '-v':\n",
    "    logging.basicConfig(level=logging.DEBUG)\n",
    "\n",
    "# Initialize the BNO055 and stop if something went wrong.\n",
    "if not bno.begin():\n",
    "    raise RuntimeError('Failed to initialize BNO055! Is the sensor connected?')\n",
    "\n",
    "# Print system status and self test result.\n",
    "status, self_test, error = bno.get_system_status()\n",
    "print('System status: {0}'.format(status))\n",
    "print('Self test result (0x0F is normal): 0x{0:02X}'.format(self_test))\n",
    "# Print out an error if system status is in error mode.\n",
    "if status == 0x01:\n",
    "    print('System error: {0}'.format(error))\n",
    "    print('See datasheet section 4.3.59 for the meaning.')\n",
    "\n",
    "# Print BNO055 software revision and other diagnostic data.\n",
    "sw, bl, accel, mag, gyro = bno.get_revision()\n",
    "print('Software version:   {0}'.format(sw))\n",
    "print('Bootloader version: {0}'.format(bl))\n",
    "print('Accelerometer ID:   0x{0:02X}'.format(accel))\n",
    "print('Magnetometer ID:    0x{0:02X}'.format(mag))\n",
    "print('Gyroscope ID:       0x{0:02X}\\n'.format(gyro))\n",
    "\n",
    "print('Reading BNO055 data, press Ctrl-C to quit...')\n",
    "while True:\n",
    "    # Read the Euler angles for heading, roll, pitch (all in degrees).\n",
    "    heading, roll, pitch = bno.read_euler()\n",
    "    # Read the calibration status, 0=uncalibrated and 3=fully calibrated.\n",
    "    sys, gyro, accel, mag = bno.get_calibration_status()\n",
    "    # Print everything out.\n",
    "    print('Heading={0:0.2F} Roll={1:0.2F} Pitch={2:0.2F}\\tSys_cal={3} Gyro_cal={4} Accel_cal={5} Mag_cal={6}'.format(\n",
    "          heading, roll, pitch, sys, gyro, accel, mag))\n",
    "    # Other values you can optionally read:\n",
    "    # Orientation as a quaternion:\n",
    "    #x,y,z,w = bno.read_quaterion()\n",
    "    # Sensor temperature in degrees Celsius:\n",
    "    #temp_c = bno.read_temp()\n",
    "    # Magnetometer data (in micro-Teslas):\n",
    "    #x,y,z = bno.read_magnetometer()\n",
    "    # Gyroscope data (in degrees per second):\n",
    "    #x,y,z = bno.read_gyroscope()\n",
    "    # Accelerometer data (in meters per second squared):\n",
    "    #x,y,z = bno.read_accelerometer()\n",
    "    # Linear acceleration data (i.e. acceleration from movement, not gravity--\n",
    "    # returned in meters per second squared):\n",
    "    #x,y,z = bno.read_linear_acceleration()\n",
    "    # Gravity acceleration data (i.e. acceleration just from gravity--returned\n",
    "    # in meters per second squared):\n",
    "    #x,y,z = bno.read_gravity()\n",
    "    # Sleep for a second until the next reading.\n",
    "    time.sleep(1)"
   ]
  },
  {
   "cell_type": "markdown",
   "metadata": {},
   "source": [
    "# Audio"
   ]
  },
  {
   "cell_type": "code",
   "execution_count": 10,
   "metadata": {},
   "outputs": [
    {
     "name": "stdout",
     "output_type": "stream",
     "text": [
      "{'index': 1, 'structVersion': 2, 'name': 'RØDE AI-Micro: USB Audio (hw:1,0)', 'hostApi': 0, 'maxInputChannels': 2, 'maxOutputChannels': 2, 'defaultLowInputLatency': 0.007979166666666667, 'defaultLowOutputLatency': 0.007979166666666667, 'defaultHighInputLatency': 0.032, 'defaultHighOutputLatency': 0.032, 'defaultSampleRate': 48000.0}\n"
     ]
    }
   ],
   "source": [
    "import pyaudio\n",
    "p = pyaudio.PyAudio()\n",
    "index = None\n",
    "for ii in range(p.get_device_count()):\n",
    "    device = p.get_device_info_by_index(ii)\n",
    "    name = device.get('name')\n",
    "    if \"AI-Micro: USB Audio\" in name:\n",
    "        print(device)\n",
    "        index = ii"
   ]
  },
  {
   "cell_type": "code",
   "execution_count": 12,
   "metadata": {},
   "outputs": [
    {
     "name": "stdout",
     "output_type": "stream",
     "text": [
      "recording\n",
      "finished recording\n"
     ]
    }
   ],
   "source": [
    "import pyaudio\n",
    "import wave\n",
    "\n",
    "form_1 = pyaudio.paInt16 # 16-bit resolution\n",
    "chans = 1 # 1 channel\n",
    "samp_rate = 48000 # 44.1kHz sampling rate\n",
    "chunk = 4096 # 2^12 samples for buffer\n",
    "record_secs = 3 # seconds to record\n",
    "dev_index = index # device index found by p.get_device_info_by_index(ii)\n",
    "wav_output_filename = 'test1.wav' # name of .wav file\n",
    "\n",
    "audio = pyaudio.PyAudio() # create pyaudio instantiation\n",
    "\n",
    "# create pyaudio stream\n",
    "stream = audio.open(format = form_1,rate = samp_rate,channels = chans, \\\n",
    "                    input_device_index = dev_index,input = True, \\\n",
    "                    frames_per_buffer=chunk)\n",
    "print(\"recording\")\n",
    "frames = []\n",
    "\n",
    "# loop through stream and append audio chunks to frame array\n",
    "for ii in range(0,int((samp_rate/chunk)*record_secs)):\n",
    "    data = stream.read(chunk)\n",
    "    frames.append(data)\n",
    "\n",
    "print(\"finished recording\")\n",
    "\n",
    "# stop the stream, close it, and terminate the pyaudio instantiation\n",
    "stream.stop_stream()\n",
    "stream.close()\n",
    "audio.terminate()\n",
    "\n",
    "# save the audio frames as .wav file\n",
    "wavefile = wave.open(wav_output_filename,'wb')\n",
    "wavefile.setnchannels(chans)\n",
    "wavefile.setsampwidth(audio.get_sample_size(form_1))\n",
    "wavefile.setframerate(samp_rate)\n",
    "wavefile.writeframes(b''.join(frames))\n",
    "wavefile.close()"
   ]
  }
 ],
 "metadata": {
  "interpreter": {
   "hash": "31f2aee4e71d21fbe5cf8b01ff0e069b9275f58929596ceb00d14d90e3e16cd6"
  },
  "kernelspec": {
   "display_name": "Python 3.8.9 64-bit",
   "language": "python",
   "name": "python3"
  },
  "language_info": {
   "codemirror_mode": {
    "name": "ipython",
    "version": 3
   },
   "file_extension": ".py",
   "mimetype": "text/x-python",
   "name": "python",
   "nbconvert_exporter": "python",
   "pygments_lexer": "ipython3",
   "version": "3.7.3"
  },
  "orig_nbformat": 4
 },
 "nbformat": 4,
 "nbformat_minor": 2
}
