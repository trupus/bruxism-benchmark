{
 "cells": [
  {
   "cell_type": "code",
   "execution_count": 5,
   "metadata": {},
   "outputs": [],
   "source": [
    "def get_ac_interval_ranges(v: bytearray):\n",
    "    def transform(x, y, factor):\n",
    "        return (x * 256 + y) * factor\n",
    "\n",
    "    def a_interval():\n",
    "        at = lambda x, y: transform(x, y, 0.625)\n",
    "        min_a = at(v[3], v[4])\n",
    "        max_a = at(v[5], v[6])\n",
    "        return (min_a, max_a)\n",
    "\n",
    "    def c_interval():\n",
    "        ct = lambda x, y: transform(x, y, 1.25)\n",
    "        min_c = ct(v[7], v[8])\n",
    "        max_c = ct(v[9], v[10])\n",
    "        return (min_c, max_c)\n",
    "\n",
    "    return (a_interval(), c_interval())"
   ]
  },
  {
   "cell_type": "code",
   "execution_count": 6,
   "metadata": {},
   "outputs": [
    {
     "data": {
      "text/plain": [
       "((125.0, 187.5), (90.0, 110.0))"
      ]
     },
     "execution_count": 6,
     "metadata": {},
     "output_type": "execute_result"
    }
   ],
   "source": [
    "# from docs for 100hz ?\n",
    "# Adv. Interval between 125ms and 187ms – Conn. interval between 90ms and 110ms:\n",
    "get_ac_interval_ranges([0x57, 0x9d, 0x08, 0x00, 0xc8, 0x01, 0x2c, 0x00, 0x48, 0x00, 0x58])"
   ]
  },
  {
   "cell_type": "code",
   "execution_count": 7,
   "metadata": {},
   "outputs": [
    {
     "data": {
      "text/plain": [
       "((625.0, 750.0), (90.0, 110.0))"
      ]
     },
     "execution_count": 7,
     "metadata": {},
     "output_type": "execute_result"
    }
   ],
   "source": [
    "# from docs (default)\n",
    "# Adv. Interval between 625ms and 750ms – Conn. interval between 90ms and 110ms: \n",
    "get_ac_interval_ranges([0x57, 0x47, 0x08, 0x03, 0xe8, 0x04, 0xb0, 0x00, 0x48, 0x00, 0x58])"
   ]
  },
  {
   "cell_type": "code",
   "execution_count": 8,
   "metadata": {},
   "outputs": [
    {
     "data": {
      "text/plain": [
       "((20.0, 30.0), (90.0, 110.0))"
      ]
     },
     "execution_count": 8,
     "metadata": {},
     "output_type": "execute_result"
    }
   ],
   "source": [
    "# from earables (same initial value)\n",
    "get_ac_interval_ranges([0x57, 0xf8, 0x08, 0x00, 0x20, 0x00, 0x30, 0x00, 0x48, 0x00, 0x58])"
   ]
  },
  {
   "cell_type": "code",
   "execution_count": 10,
   "metadata": {},
   "outputs": [
    {
     "data": {
      "text/plain": [
       "((125.0, 187.5), (20.0, 40.0))"
      ]
     },
     "execution_count": 10,
     "metadata": {},
     "output_type": "execute_result"
    }
   ],
   "source": [
    "# expiremental (must be the fastest)\n",
    "# Adv. Interval between 125ms and 187ms – Conn. interval between 20ms and 40ms: \n",
    "get_ac_interval_ranges([0x57, 0x2d, 0x08, 0x00, 0xc8, 0x01, 0x2c, 0x00, 0x10, 0x00, 0x20])"
   ]
  }
 ],
 "metadata": {
  "interpreter": {
   "hash": "31f2aee4e71d21fbe5cf8b01ff0e069b9275f58929596ceb00d14d90e3e16cd6"
  },
  "kernelspec": {
   "display_name": "Python 3.7.3 32-bit",
   "language": "python",
   "name": "python3"
  },
  "language_info": {
   "codemirror_mode": {
    "name": "ipython",
    "version": 3
   },
   "file_extension": ".py",
   "mimetype": "text/x-python",
   "name": "python",
   "nbconvert_exporter": "python",
   "pygments_lexer": "ipython3",
   "version": "3.7.3"
  },
  "orig_nbformat": 4
 },
 "nbformat": 4,
 "nbformat_minor": 2
}
